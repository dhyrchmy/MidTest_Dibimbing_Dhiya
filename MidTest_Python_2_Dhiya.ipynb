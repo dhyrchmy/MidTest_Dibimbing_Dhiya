{
  "cells": [
    {
      "cell_type": "markdown",
      "source": [
        "**Nama: Andi Dhiya Rachmy Ariffia**"
      ],
      "metadata": {
        "id": "81tXnKHAwjXL"
      },
      "id": "81tXnKHAwjXL"
    },
    {
      "cell_type": "markdown",
      "id": "4e147004",
      "metadata": {
        "id": "4e147004"
      },
      "source": [
        "### Python 2 : Spy Text Decoder"
      ]
    },
    {
      "cell_type": "markdown",
      "id": "983e04ac",
      "metadata": {
        "id": "983e04ac"
      },
      "source": [
        "### Task"
      ]
    },
    {
      "cell_type": "markdown",
      "id": "5ec350f9",
      "metadata": {
        "id": "5ec350f9"
      },
      "source": [
        "Your function name should be `decode`.\n",
        "\n",
        "Your input will be two strings:\n",
        "- The First Input String: is the code that you need to decode. It contains letters only.\n",
        "- The Second Input String: is in the form of string, but they contain integers only.\n",
        "\n",
        "Rearrange the code according to the integers as such:\n",
        "- If the first integer is '5', then, you need to put the first letter to the 5th position\n",
        "- If the second integer is '3', then you need to put the second letter to the 3rd position\n",
        "\n",
        "and so on. Please understand the examples given below.\n",
        "\n",
        "Your output should be a string of the decoded text.\n",
        "\n",
        "### Constraint\n",
        "\n",
        "The maximum `length` of input is 9 characters.\n",
        "There will be no input strings which are longer than 10 characters."
      ]
    },
    {
      "cell_type": "markdown",
      "id": "fe7657d7",
      "metadata": {
        "id": "fe7657d7"
      },
      "source": [
        "### Example 1:\n",
        "\n",
        "Input:\n",
        "- First String: `'abc'`\n",
        "- Second String: `'321'`\n",
        "\n",
        "This is how you decode it:\n",
        "- Letter 'a' should be in the 3rd position\n",
        "- Letter 'b' should be in the 2nd position\n",
        "- Letter 'c' should be in the 1st position\n",
        "\n",
        "Output: `cba`"
      ]
    },
    {
      "cell_type": "markdown",
      "id": "70c43c1f",
      "metadata": {
        "id": "70c43c1f"
      },
      "source": [
        "### Example 2:\n",
        "\n",
        "Input:\n",
        "- First String: `'niimbdbig'`\n",
        "- Second String: `'847561329'`\n",
        "\n",
        "This is how you decode it:\n",
        "- Letter 'n' should be in the 8th position\n",
        "- Letter 'i' should be in the 4th position\n",
        "- Letter 'i' should be in the 7th position\n",
        "- Letter 'm' should be in the 5th position\n",
        "- Letter 'b' should be in the 6th position\n",
        "- Letter 'd' should be in the 1st position\n",
        "- Letter 'b' should be in the 3rd position\n",
        "- Letter 'i' should be in the 2nd position\n",
        "- Letter 'g' should be in the 9th position\n",
        "\n",
        "Output: `'dibimbing'`"
      ]
    },
    {
      "cell_type": "markdown",
      "id": "09f9a98e",
      "metadata": {
        "id": "09f9a98e"
      },
      "source": [
        "### Example 3:\n",
        "\n",
        "Input:\n",
        "- First String: `'xyzabc'`\n",
        "- Second String: `'654123'`\n",
        "\n",
        "This is how you decode it:\n",
        "- Letter 'x' should be in the 6th position\n",
        "- Letter 'y' should be in the 5th position\n",
        "- Letter 'z' should be in the 4th position\n",
        "- Letter 'a' should be in the 1st position\n",
        "- Letter 'b' should be in the 2nd position\n",
        "- Letter 'c' should be in the 3rd position\n",
        "\n",
        "Output: `'abczyx'`"
      ]
    },
    {
      "cell_type": "markdown",
      "id": "07766ab3",
      "metadata": {
        "id": "07766ab3"
      },
      "source": [
        "### Input Format\n",
        "\n",
        "The input is in the shape of two strings."
      ]
    },
    {
      "cell_type": "markdown",
      "id": "2d318a87",
      "metadata": {
        "id": "2d318a87"
      },
      "source": [
        "### Output Format\n",
        "\n",
        "The output is in the shape of a string."
      ]
    },
    {
      "cell_type": "markdown",
      "id": "8ac2ef21",
      "metadata": {
        "id": "8ac2ef21"
      },
      "source": [
        "### Sample Input"
      ]
    },
    {
      "cell_type": "markdown",
      "id": "54ff47dc",
      "metadata": {
        "id": "54ff47dc"
      },
      "source": [
        "`'abc'`\n",
        "\n",
        "`'312'`"
      ]
    },
    {
      "cell_type": "markdown",
      "id": "fc40c446",
      "metadata": {
        "id": "fc40c446"
      },
      "source": [
        "### Sample Output\n",
        "`'bca'`"
      ]
    },
    {
      "cell_type": "markdown",
      "id": "04034fe3",
      "metadata": {
        "id": "04034fe3"
      },
      "source": [
        "### Space for Work"
      ]
    },
    {
      "cell_type": "code",
      "execution_count": 29,
      "id": "65f04bc9",
      "metadata": {
        "id": "65f04bc9"
      },
      "outputs": [],
      "source": [
        "def decode(input_string_1, input_string_2):\n",
        "    ### Write your solution here ###\n",
        "    if len(input_string_1)>9 or len(input_string_2)>9:\n",
        "      return 'input string tidak boleh lebih dari 9 karater'\n",
        "    else:\n",
        "      output = [0 for i in range(len(input_string_1))]\n",
        "      i = 0\n",
        "      for x in input_string_2:\n",
        "        idx = int(x)\n",
        "        output[int(idx-1)] = input_string_1[i] # krn indexing mulai dr 0\n",
        "        i +=1\n",
        "    output_string =''\n",
        "    for x in output:\n",
        "      if x!=',':\n",
        "        output_string += x\n",
        "\n",
        "    return output_string"
      ]
    },
    {
      "cell_type": "code",
      "source": [
        "input_string_1 = 'abc'\n",
        "input_string_2 = '321'\n",
        "print(decode(input_string_1, input_string_2))"
      ],
      "metadata": {
        "colab": {
          "base_uri": "https://localhost:8080/"
        },
        "id": "Sa4wcPy3d-kF",
        "outputId": "b7d410bf-ee9c-40f2-88a8-9c19abaa388c"
      },
      "id": "Sa4wcPy3d-kF",
      "execution_count": 30,
      "outputs": [
        {
          "output_type": "stream",
          "name": "stdout",
          "text": [
            "cba\n"
          ]
        }
      ]
    },
    {
      "cell_type": "code",
      "source": [
        "input_string_1 = 'niimbdbig'\n",
        "input_string_2 = '847561329'\n",
        "print(decode(input_string_1, input_string_2))"
      ],
      "metadata": {
        "colab": {
          "base_uri": "https://localhost:8080/"
        },
        "outputId": "0d130166-2386-4038-acce-36543a8f057e",
        "id": "r49u3iDgiLCd"
      },
      "execution_count": 31,
      "outputs": [
        {
          "output_type": "stream",
          "name": "stdout",
          "text": [
            "dibimbing\n"
          ]
        }
      ],
      "id": "r49u3iDgiLCd"
    },
    {
      "cell_type": "code",
      "source": [
        "input_string_1 = 'xyzabc'\n",
        "input_string_2 = '654123'\n",
        "print(decode(input_string_1, input_string_2))"
      ],
      "metadata": {
        "colab": {
          "base_uri": "https://localhost:8080/"
        },
        "outputId": "86d72b35-467d-4a87-b394-d702b444af64",
        "id": "6aDkP70CiLJg"
      },
      "execution_count": 32,
      "outputs": [
        {
          "output_type": "stream",
          "name": "stdout",
          "text": [
            "abczyx\n"
          ]
        }
      ],
      "id": "6aDkP70CiLJg"
    }
  ],
  "metadata": {
    "kernelspec": {
      "display_name": "Python 3",
      "language": "python",
      "name": "python3"
    },
    "language_info": {
      "codemirror_mode": {
        "name": "ipython",
        "version": 3
      },
      "file_extension": ".py",
      "mimetype": "text/x-python",
      "name": "python",
      "nbconvert_exporter": "python",
      "pygments_lexer": "ipython3",
      "version": "3.7.0"
    },
    "colab": {
      "provenance": []
    }
  },
  "nbformat": 4,
  "nbformat_minor": 5
}