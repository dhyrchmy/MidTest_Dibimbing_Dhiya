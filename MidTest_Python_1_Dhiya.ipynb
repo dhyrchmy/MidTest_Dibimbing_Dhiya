{
  "nbformat": 4,
  "nbformat_minor": 5,
  "metadata": {
    "kernelspec": {
      "display_name": "Python 3",
      "language": "python",
      "name": "python3"
    },
    "language_info": {
      "codemirror_mode": {
        "name": "ipython",
        "version": 3
      },
      "file_extension": ".py",
      "mimetype": "text/x-python",
      "name": "python",
      "nbconvert_exporter": "python",
      "pygments_lexer": "ipython3",
      "version": "3.7.0"
    },
    "colab": {
      "provenance": []
    }
  },
  "cells": [
    {
      "cell_type": "markdown",
      "source": [
        "**Nama: Andi Dhiya Rachmy Ariffia**"
      ],
      "metadata": {
        "id": "81tXnKHAwjXL"
      },
      "id": "81tXnKHAwjXL"
    },
    {
      "cell_type": "markdown",
      "metadata": {
        "id": "87919d68"
      },
      "source": [
        "### Python 1 : Addition To String"
      ],
      "id": "87919d68"
    },
    {
      "cell_type": "markdown",
      "metadata": {
        "id": "c061c30a"
      },
      "source": [
        "### Task"
      ],
      "id": "c061c30a"
    },
    {
      "cell_type": "markdown",
      "metadata": {
        "id": "66fcf833"
      },
      "source": [
        "Your function name should be `add_str`.\n",
        "\n",
        "Given a string filled with integers separated by comma. Create a new number, whose digits are the integers inside the string. Then, add 1 to the new number. Then, separate the digits again to a string which consits of **single digit of\n",
        "integers**, separated by comma. This new string will be your output string. The output string **should not have zero as its first character**.  See the examples for clearer understanding."
      ],
      "id": "66fcf833"
    },
    {
      "cell_type": "markdown",
      "metadata": {
        "id": "aee24374"
      },
      "source": [
        "### Example 1:\n",
        "\n",
        "- Input = `'1,3,5'`\n",
        "- Output = `'1,3,6'`\n",
        "\n",
        "Since the input is `'1,3,5'`, then the new number created is 135. Add 135 with 1 so it becomes 136. Then, separate back 136 into each individual digits separated by comma. This becomes `'1,3,6'`. So, the expected output of your solution is `'1,3,6'`"
      ],
      "id": "aee24374"
    },
    {
      "cell_type": "markdown",
      "metadata": {
        "id": "e85af386"
      },
      "source": [
        "### Example 2:\n",
        "\n",
        "- Input = `'1,3,39'`\n",
        "- Output = `'1,3,4,0'`\n",
        "\n",
        "Since the input is `'1,3,39'`, then the new number created is 1339. Add 1339 with 1 so it becomes 1340. Then, separate back 1340 into each individual digits separated by comma. This becomes `'1,3,4,0'`. So, the expected output of your solution is `'1,3,4,0'`"
      ],
      "id": "e85af386"
    },
    {
      "cell_type": "markdown",
      "metadata": {
        "id": "bbeb3f41"
      },
      "source": [
        "### Example 1:\n",
        "\n",
        "- Input = `'0,1,3,39'`\n",
        "- Output = `'1,3,4,0'`\n",
        "\n",
        "Since the input is `'0,1,3,39'`, then the new number created is 1339. Add 1339 with 1 so it becomes 1340. Then, separate back 1340 into each individual digits separated by comma. This becomes `'1,3,4,0'`. So, the expected output of your solution is `'1,3,4,0'`. Remember, do not put a 'zero' in the beginning of your output."
      ],
      "id": "bbeb3f41"
    },
    {
      "cell_type": "markdown",
      "metadata": {
        "id": "e7807496"
      },
      "source": [
        "### Input Format\n",
        "\n",
        "The input is in the shape of a string."
      ],
      "id": "e7807496"
    },
    {
      "cell_type": "markdown",
      "metadata": {
        "id": "e9f0d6c5"
      },
      "source": [
        "### Output Format\n",
        "\n",
        "The output is in the shape of a string."
      ],
      "id": "e9f0d6c5"
    },
    {
      "cell_type": "markdown",
      "metadata": {
        "id": "f9173e59"
      },
      "source": [
        "### Sample Input"
      ],
      "id": "f9173e59"
    },
    {
      "cell_type": "markdown",
      "metadata": {
        "id": "c0526b8c"
      },
      "source": [
        "`'1,5,1,9'`"
      ],
      "id": "c0526b8c"
    },
    {
      "cell_type": "markdown",
      "metadata": {
        "id": "71fad9f8"
      },
      "source": [
        "### Sample Output\n",
        "`'1,5,2,0'`"
      ],
      "id": "71fad9f8"
    },
    {
      "cell_type": "markdown",
      "metadata": {
        "id": "8306d027"
      },
      "source": [
        "### Space for Work"
      ],
      "id": "8306d027"
    },
    {
      "cell_type": "code",
      "metadata": {
        "id": "6756b480"
      },
      "source": [
        "def add_str(input_string):\n",
        "    ### Write your solution here ###\n",
        "    old_string = ''\n",
        "    for x in input_string:\n",
        "      if x!=',':\n",
        "        old_string += x\n",
        "    old_int = int(old_string)\n",
        "    new_int = old_int+1\n",
        "    new_string = str(new_int)\n",
        "    new_comma_string = ''\n",
        "\n",
        "    for i in range(2*(len(new_string))-1):\n",
        "      if i%2==0: #posisi genap (0,2,4,..)\n",
        "        new_comma_string += new_string[int(i/2)]\n",
        "      else: #posisi ganjil (1,3,5,..)\n",
        "        new_comma_string += ','\n",
        "\n",
        "\n",
        "    return new_comma_string"
      ],
      "id": "6756b480",
      "execution_count": 52,
      "outputs": []
    },
    {
      "cell_type": "code",
      "source": [
        "string = '1,3,5'\n",
        "add_str(string)"
      ],
      "metadata": {
        "colab": {
          "base_uri": "https://localhost:8080/",
          "height": 35
        },
        "id": "nSvX_XnVVnrM",
        "outputId": "360dd322-fea4-4fb2-b00c-28cdee278f1d"
      },
      "id": "nSvX_XnVVnrM",
      "execution_count": 57,
      "outputs": [
        {
          "output_type": "execute_result",
          "data": {
            "text/plain": [
              "'1,3,6'"
            ],
            "application/vnd.google.colaboratory.intrinsic+json": {
              "type": "string"
            }
          },
          "metadata": {},
          "execution_count": 57
        }
      ]
    },
    {
      "cell_type": "code",
      "source": [
        "string = '1,3,39'\n",
        "add_str(string)"
      ],
      "metadata": {
        "colab": {
          "base_uri": "https://localhost:8080/",
          "height": 35
        },
        "outputId": "27af4207-2a9b-42dd-9e01-1200f0d10cc5",
        "id": "tR55gjJAbsRg"
      },
      "execution_count": 58,
      "outputs": [
        {
          "output_type": "execute_result",
          "data": {
            "text/plain": [
              "'1,3,4,0'"
            ],
            "application/vnd.google.colaboratory.intrinsic+json": {
              "type": "string"
            }
          },
          "metadata": {},
          "execution_count": 58
        }
      ],
      "id": "tR55gjJAbsRg"
    },
    {
      "cell_type": "code",
      "source": [
        "string = '0,1,3,39'\n",
        "add_str(string)"
      ],
      "metadata": {
        "colab": {
          "base_uri": "https://localhost:8080/",
          "height": 35
        },
        "outputId": "c81f4055-bb83-4190-ba9b-8fbd3ff8cb52",
        "id": "15qkpgiMbsgW"
      },
      "execution_count": 59,
      "outputs": [
        {
          "output_type": "execute_result",
          "data": {
            "text/plain": [
              "'1,3,4,0'"
            ],
            "application/vnd.google.colaboratory.intrinsic+json": {
              "type": "string"
            }
          },
          "metadata": {},
          "execution_count": 59
        }
      ],
      "id": "15qkpgiMbsgW"
    },
    {
      "cell_type": "code",
      "source": [
        "string = '1,5,1,9'\n",
        "add_str(string)"
      ],
      "metadata": {
        "colab": {
          "base_uri": "https://localhost:8080/",
          "height": 35
        },
        "outputId": "9e029795-2cd3-4f93-da41-1ce729433242",
        "id": "BUIgkZyDbsvy"
      },
      "execution_count": 60,
      "outputs": [
        {
          "output_type": "execute_result",
          "data": {
            "text/plain": [
              "'1,5,2,0'"
            ],
            "application/vnd.google.colaboratory.intrinsic+json": {
              "type": "string"
            }
          },
          "metadata": {},
          "execution_count": 60
        }
      ],
      "id": "BUIgkZyDbsvy"
    }
  ]
}